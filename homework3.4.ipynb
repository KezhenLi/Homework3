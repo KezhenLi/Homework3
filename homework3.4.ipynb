{
  "nbformat": 4,
  "nbformat_minor": 0,
  "metadata": {
    "colab": {
      "name": "homework3.4.ipynb",
      "provenance": [],
      "authorship_tag": "ABX9TyOmb2lYmohYenaHX/hH/8wT",
      "include_colab_link": true
    },
    "kernelspec": {
      "name": "python3",
      "display_name": "Python 3"
    }
  },
  "cells": [
    {
      "cell_type": "markdown",
      "metadata": {
        "id": "view-in-github",
        "colab_type": "text"
      },
      "source": [
        "<a href=\"https://colab.research.google.com/github/KezhenLi/Homework3/blob/main/homework3.4.ipynb\" target=\"_parent\"><img src=\"https://colab.research.google.com/assets/colab-badge.svg\" alt=\"Open In Colab\"/></a>"
      ]
    },
    {
      "cell_type": "code",
      "metadata": {
        "id": "uMg45Psv2DSy"
      },
      "source": [
        "from numpy import ones,copy,cos,sin,tan,pi,linspace,sqrt\n",
        "from pylab import plot, show, xlabel, ylabel,title"
      ],
      "execution_count": 1,
      "outputs": []
    },
    {
      "cell_type": "code",
      "metadata": {
        "colab": {
          "base_uri": "https://localhost:8080/",
          "height": 295
        },
        "id": "fJSrZ6QS2N6q",
        "outputId": "c3914c62-dba6-4391-a459-871c48d09e90"
      },
      "source": [
        "def gaussxw(N):\n",
        "\n",
        "    # Initial approximation to roots of the Legendre polynomial\n",
        "    a = linspace(3,4*N-1,N)/(4*N+2)\n",
        "    x = cos(pi*a+1/(8*N*N*tan(a)))\n",
        "\n",
        "    # Find roots using Newton's method\n",
        "    epsilon = 1e-15\n",
        "    delta = 1.0\n",
        "    while delta>epsilon:\n",
        "        p0 = ones(N,float)\n",
        "        p1 = copy(x)\n",
        "        for k in range(1,N):\n",
        "            p0,p1 = p1,((2*k+1)*x*p1-k*p0)/(k+1)\n",
        "        dp = (N+1)*(p0-x*p1)/(1-x*x)\n",
        "        dx = p1/dp\n",
        "        x -= dx\n",
        "        delta = max(abs(dx))\n",
        "\n",
        "    # Calculate the weights\n",
        "    w = 2*(N+1)*(N+1)/(N*N*(1-x*x)*dp*dp)\n",
        "\n",
        "    return x,w\n",
        "\n",
        "def gaussxwab(N,a,b):\n",
        "    x,w = gaussxw(N)\n",
        "    return 0.5*(b-a)*x+0.5*(b+a),0.5*(b-a)*w\n",
        "\n",
        "G = 6.674 * 10 ** -11 \n",
        "sigma = 100  #10^4 kg/ 100 m^2\n",
        "N = 100  \n",
        "r, w = gaussxwab(N, -5, 5)\n",
        "\n",
        "def Fz(z):\n",
        "    integral = 0\n",
        "    for i in range(N):\n",
        "        for j in range(N):\n",
        "            integral += G * sigma * w[i] * w[j] * z / (r[i] ** 2 + r[j] ** 2 + z ** 2) ** (3/2)\n",
        "    return integral\n",
        "\n",
        "z = linspace(0, 10, 100)\n",
        "plot(z, Fz(z))\n",
        "xlabel(\"z(m)\")\n",
        "ylabel(\"Fz(N)\")\n",
        "title(\"z vs. Fz\")\n",
        "show()\n",
        "\n",
        "\n",
        "\n",
        "#(a): F = G m1 m2/(r^2), m1 = 1kg, m2 = dx dy dz sigma, r = (x^2+y^2+z^2)^(1/2),\n",
        "#.    dF = G dx dy dz sigma/(x^2+y^2+z^2), z component dFz = G dx dy dz sigma/(x^2+y^2+z^2)^(3/2)\n",
        "#.    Fz = G dx dy z sigma intergral(L/2,-L/2)(L/2,-L/2)(dx dy /(x^2+y^2+z^2)^(3/2))\n",
        "#(c): Because we don't have enough points near z=0, one way to remove it is plot from z = 0.5 to z = 10\n"
      ],
      "execution_count": 23,
      "outputs": [
        {
          "output_type": "display_data",
          "data": {
            "image/png": "[encoded data removed]",
            "text/plain": [
              "<Figure size 432x288 with 1 Axes>"
            ]
          },
          "metadata": {
            "tags": [],
            "needs_background": "light"
          }
        }
      ]
    }
  ]
}