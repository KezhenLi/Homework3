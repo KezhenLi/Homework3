{
  "nbformat": 4,
  "nbformat_minor": 0,
  "metadata": {
    "colab": {
      "name": "homework3.2.ipynb",
      "provenance": [],
      "authorship_tag": "ABX9TyNcotG8mlXear13bMQW93Y9",
      "include_colab_link": true
    },
    "kernelspec": {
      "name": "python3",
      "display_name": "Python 3"
    }
  },
  "cells": [
    {
      "cell_type": "markdown",
      "metadata": {
        "id": "view-in-github",
        "colab_type": "text"
      },
      "source": [
        "<a href=\"https://colab.research.google.com/github/KezhenLi/Homework3/blob/main/homework3.2.ipynb\" target=\"_parent\"><img src=\"https://colab.research.google.com/assets/colab-badge.svg\" alt=\"Open In Colab\"/></a>"
      ]
    },
    {
      "cell_type": "code",
      "metadata": {
        "id": "8YixF3Ziin9r"
      },
      "source": [
        "from numpy import ones,copy,cos,tan,pi,linspace,sqrt\n",
        "from pylab import plot, show, xlabel, ylabel, title"
      ],
      "execution_count": 33,
      "outputs": []
    },
    {
      "cell_type": "code",
      "metadata": {
        "colab": {
          "base_uri": "https://localhost:8080/",
          "height": 332
        },
        "id": "JePA5lhYiyCG",
        "outputId": "3980813d-86e3-4e30-cd30-5788787ddccf"
      },
      "source": [
        "def gaussxw(N):\n",
        "\n",
        "    # Initial approximation to roots of the Legendre polynomial\n",
        "    a = linspace(3,4*N-1,N)/(4*N+2)\n",
        "    x = cos(pi*a+1/(8*N*N*tan(a)))\n",
        "\n",
        "    # Find roots using Newton's method\n",
        "    epsilon = 1e-15\n",
        "    delta = 1.0\n",
        "    while delta>epsilon:\n",
        "        p0 = ones(N,float)\n",
        "        p1 = copy(x)\n",
        "        for k in range(1,N):\n",
        "            p0,p1 = p1,((2*k+1)*x*p1-k*p0)/(k+1)\n",
        "        dp = (N+1)*(p0-x*p1)/(1-x*x)\n",
        "        dx = p1/dp\n",
        "        x -= dx\n",
        "        delta = max(abs(dx))\n",
        "\n",
        "    # Calculate the weights\n",
        "    w = 2*(N+1)*(N+1)/(N*N*(1-x*x)*dp*dp)\n",
        "\n",
        "    return x,w\n",
        "\n",
        "def gaussxwab(N,a,b):\n",
        "    x,w = gaussxw(N)\n",
        "    return 0.5*(b-a)*x+0.5*(b+a),0.5*(b-a)*w\n",
        "\n",
        "m = 1\n",
        "N = 20\n",
        "def T(a):\n",
        "    x, w = gaussxwab(N, 0, a)\n",
        "    integral = 0.0\n",
        "    for i in range(N):\n",
        "        integral += sqrt(8) * w[i] / sqrt(a ** 4 - x[i] ** 4)\n",
        "    return integral\n",
        "\n",
        "a = linspace(0.1, 2, N)\n",
        "plot(a, T(a), 'o')\n",
        "xlabel(\"a\")\n",
        "ylabel(\"T\")\n",
        "title(\"a vs. T\")\n",
        "show()\n"
      ],
      "execution_count": 34,
      "outputs": [
        {
          "output_type": "stream",
          "text": [
            "/usr/local/lib/python3.6/dist-packages/ipykernel_launcher.py:35: RuntimeWarning: invalid value encountered in sqrt\n"
          ],
          "name": "stderr"
        },
        {
          "output_type": "display_data",
          "data": {
            "image/png": "[encoded data removed]",
            "text/plain": [
              "<Figure size 432x288 with 1 Axes>"
            ]
          },
          "metadata": {
            "tags": [],
            "needs_background": "light"
          }
        }
      ]
    }
  ]
}